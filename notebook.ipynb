{
 "cells": [
  {
   "cell_type": "code",
   "execution_count": null,
   "metadata": {},
   "outputs": [],
   "source": [
    "from torch import Tensor\n",
    "from torch import flatten\n",
    "from torch.nn import Module\n",
    "from torch.nn import Linear, Dropout, ReLU\n",
    "\n",
    "def select_activation(name: str):\n",
    "    if name == 'relu':\n",
    "        return ReLU()\n",
    "\n",
    "class MLP(Module):\n",
    "    def __init__(self, input_size: int, hidden_size: int, output_size: int, p: float, activation: str = 'relu'):\n",
    "        super().__init__()\n",
    "        self.input_layer = Linear(input_size, hidden_size)\n",
    "        self.activation = select_activation(activation)\n",
    "        self.dropout = Dropout(p=p)\n",
    "        self.output_layer =Linear(hidden_size, output_size)\n",
    "\n",
    "    def forward(self, sequence: Tensor) -> Tensor:\n",
    "        sequence = self.input_layer(flatten(sequence, 1))\n",
    "        sequence = self.activation(sequence)\n",
    "        sequence = self.dropout(sequence)\n",
    "        return self.output_layer(sequence)"
   ]
  },
  {
   "cell_type": "code",
   "execution_count": null,
   "metadata": {},
   "outputs": [],
   "source": [
    "from torch.utils.data import Dataset\n",
    "from torchvision.datasets import MNIST\n",
    "from torchvision.transforms import ToTensor\n",
    "\n",
    "class Digits(Dataset):\n",
    "    def __init__(self, train: bool):\n",
    "        self.data = MNIST(root='data/datasets', download=True, train=train, transform=ToTensor())\n",
    "\n",
    "    def __getitem__(self, index):\n",
    "        return self.data[index]\n",
    "\n",
    "    def __len__(self):\n",
    "        return len(self.data)"
   ]
  },
  {
   "cell_type": "code",
   "execution_count": null,
   "metadata": {},
   "outputs": [],
   "source": [
    "from mlbus.torch import Aggregate\n",
    "from mlbus.torch import Loader, Criterion, Optimizer\n",
    "from typing import Callable\n",
    "from torch.optim import Optimizer\n",
    "from torch import inference_mode\n",
    "\n",
    "class Classifier(Aggregate):\n",
    "    def __init__(self, hash: str, model: Module, criterion: Criterion):\n",
    "        super().__init__(hash)\n",
    "        self.model = model\n",
    "        self.criterion = criterion\n",
    "\n",
    "    def forward(self, input: Tensor) -> Tensor:\n",
    "        return self.model(input)\n",
    "\n",
    "    def fit(self, loader: Loader, callback: Callable, optimizer: Optimizer):\n",
    "        for batch, (input, target) in enumerate(loader, start=1):\n",
    "            optimizer.zero_grad()\n",
    "            output = self.model(input)\n",
    "            loss = self.criterion(output, target)\n",
    "            loss.backward()\n",
    "            optimizer.step()\n",
    "            callback(batch, loss.item(), output, target)\n",
    "\n",
    "    @inference_mode\n",
    "    def evaluate(self, loader: Loader, callback: Callable):\n",
    "        for batch, (input, target) in enumerate(loader, start=1):\n",
    "            output = self.model(input)\n",
    "            loss = self.criterion(output, target)\n",
    "            callback(batch, loss.item(), output, target)"
   ]
  },
  {
   "cell_type": "code",
   "execution_count": null,
   "metadata": {},
   "outputs": [],
   "source": [
    "from mlbus.torch import Repository\n",
    "from torch.nn import CrossEntropyLoss\n",
    "from torch.optim import Adam\n",
    "\n",
    "Repository.models.register(MLP)\n",
    "Repository.criterions.register(CrossEntropyLoss)\n",
    "Repository.optimizers.register(Adam)\n",
    "Repository.datasets.register(Digits)"
   ]
  },
  {
   "cell_type": "code",
   "execution_count": null,
   "metadata": {},
   "outputs": [
    {
     "ename": "NameError",
     "evalue": "name 'MLP' is not defined",
     "output_type": "error",
     "traceback": [
      "\u001b[0;31m---------------------------------------------------------------------------\u001b[0m",
      "\u001b[0;31mNameError\u001b[0m                                 Traceback (most recent call last)",
      "Cell \u001b[0;32mIn[1], line 4\u001b[0m\n\u001b[1;32m      1\u001b[0m \u001b[38;5;28;01mfrom\u001b[39;00m \u001b[38;5;21;01mtorch\u001b[39;00m\u001b[38;5;21;01m.\u001b[39;00m\u001b[38;5;21;01mnn\u001b[39;00m \u001b[38;5;28;01mimport\u001b[39;00m CrossEntropyLoss\n\u001b[1;32m      2\u001b[0m \u001b[38;5;28;01mfrom\u001b[39;00m \u001b[38;5;21;01mtorch\u001b[39;00m\u001b[38;5;21;01m.\u001b[39;00m\u001b[38;5;21;01moptim\u001b[39;00m \u001b[38;5;28;01mimport\u001b[39;00m Adam\n\u001b[0;32m----> 4\u001b[0m model \u001b[38;5;241m=\u001b[39m \u001b[43mMLP\u001b[49m(\u001b[38;5;241m784\u001b[39m, \u001b[38;5;241m256\u001b[39m, \u001b[38;5;241m10\u001b[39m, p\u001b[38;5;241m=\u001b[39m\u001b[38;5;241m0.5\u001b[39m, activation\u001b[38;5;241m=\u001b[39m\u001b[38;5;124m'\u001b[39m\u001b[38;5;124mrelu\u001b[39m\u001b[38;5;124m'\u001b[39m)\n\u001b[1;32m      5\u001b[0m criterion \u001b[38;5;241m=\u001b[39m CrossEntropyLoss()\n\u001b[1;32m      6\u001b[0m optimizer \u001b[38;5;241m=\u001b[39m Adam(model\u001b[38;5;241m.\u001b[39mparameters(), lr\u001b[38;5;241m=\u001b[39m\u001b[38;5;241m0.001\u001b[39m)\n",
      "\u001b[0;31mNameError\u001b[0m: name 'MLP' is not defined"
     ]
    }
   ],
   "source": [
    "from mlbus import Dispatcher\n",
    "from mlbus.torch import Loaders\n",
    "from mlbus.torch.callbacks import Loss, Accuracy\n",
    "\n",
    "model = MLP(784, 256, 10, p=0.5, activation='relu')\n",
    "criterion = CrossEntropyLoss()\n",
    "optimizer = Adam(model.parameters(), lr=0.001)\n",
    "loaders = Loaders()\n",
    "loaders.add('train', Digits(train=True), batch_size=256, shuffle=True)\n",
    "loaders.add('evaluation', Digits(train=False), batch_size=256, shuffle=True)\n",
    "repository = Repository()\n",
    "classifier = Classifier(model, criterion, optimizer)\n",
    "callback = Dispatcher(Loss(), Accuracy())"
   ]
  },
  {
   "cell_type": "code",
   "execution_count": null,
   "metadata": {},
   "outputs": [],
   "source": []
  }
 ],
 "metadata": {
  "kernelspec": {
   "display_name": "torch",
   "language": "python",
   "name": "python3"
  },
  "language_info": {
   "codemirror_mode": {
    "name": "ipython",
    "version": 3
   },
   "file_extension": ".py",
   "mimetype": "text/x-python",
   "name": "python",
   "nbconvert_exporter": "python",
   "pygments_lexer": "ipython3",
   "version": "3.12.7"
  }
 },
 "nbformat": 4,
 "nbformat_minor": 2
}
